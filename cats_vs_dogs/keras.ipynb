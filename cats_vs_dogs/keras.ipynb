{
 "cells": [
  {
   "cell_type": "markdown",
   "metadata": {
    "collapsed": true
   },
   "source": [
    "# Import Libraries "
   ]
  },
  {
   "cell_type": "markdown",
   "metadata": {},
   "source": [
    "Import all the required Tensorflow and Keras libraries"
   ]
  },
  {
   "cell_type": "code",
   "execution_count": 2,
   "metadata": {},
   "outputs": [
    {
     "name": "stderr",
     "output_type": "stream",
     "text": [
      "Using TensorFlow backend.\n"
     ]
    }
   ],
   "source": [
    "# These are all the imports we will need.  You shouldn't need anything else.\n",
    "\n",
    "\n",
    "from keras.models import load_model\n",
    "from keras.models import Sequential\n",
    "from keras.layers import Conv2D\n",
    "from keras.layers import MaxPooling2D\n",
    "from keras.layers import Flatten\n",
    "from keras.layers import Dense\n",
    "from keras.preprocessing import image\n",
    "from keras import regularizers\n",
    "import os as os\n",
    "import numpy as np\n",
    "import matplotlib.pyplot as plt\n",
    "\n",
    "%matplotlib inline"
   ]
  },
  {
   "cell_type": "markdown",
   "metadata": {},
   "source": [
    " # Step 1: Design the CNN architecture. After designing the architecture, print it in iPython Notebook. \n"
   ]
  },
  {
   "cell_type": "code",
   "execution_count": 2,
   "metadata": {},
   "outputs": [
    {
     "name": "stdout",
     "output_type": "stream",
     "text": [
      "_________________________________________________________________\n",
      "Layer (type)                 Output Shape              Param #   \n",
      "=================================================================\n",
      "conv2d_1 (Conv2D)            (None, 62, 62, 32)        896       \n",
      "_________________________________________________________________\n",
      "max_pooling2d_1 (MaxPooling2 (None, 31, 31, 32)        0         \n",
      "_________________________________________________________________\n",
      "conv2d_2 (Conv2D)            (None, 29, 29, 32)        9248      \n",
      "_________________________________________________________________\n",
      "max_pooling2d_2 (MaxPooling2 (None, 14, 14, 32)        0         \n",
      "_________________________________________________________________\n",
      "conv2d_3 (Conv2D)            (None, 12, 12, 32)        9248      \n",
      "_________________________________________________________________\n",
      "max_pooling2d_3 (MaxPooling2 (None, 6, 6, 32)          0         \n",
      "_________________________________________________________________\n",
      "conv2d_4 (Conv2D)            (None, 4, 4, 32)          9248      \n",
      "_________________________________________________________________\n",
      "max_pooling2d_4 (MaxPooling2 (None, 2, 2, 32)          0         \n",
      "_________________________________________________________________\n",
      "flatten_1 (Flatten)          (None, 128)               0         \n",
      "_________________________________________________________________\n",
      "dense_1 (Dense)              (None, 128)               16512     \n",
      "_________________________________________________________________\n",
      "dense_2 (Dense)              (None, 1)                 129       \n",
      "=================================================================\n",
      "Total params: 45,281\n",
      "Trainable params: 45,281\n",
      "Non-trainable params: 0\n",
      "_________________________________________________________________\n"
     ]
    }
   ],
   "source": [
    "# WRITE THE CODE DEFINING THE NETWORK ARCHITECTURE HERE (Sec. 2.2 in the assignment PDF)\n",
    "\n",
    "# Initialize a CNN model object using the Sequential() function from keras.models\n",
    "model = Sequential()\n",
    "\n",
    "# Add a convolution layer with 32 feature maps of shape (3,3), and input_shape=(64,64,3).\n",
    "# Use 'relu' for the activation function.\n",
    "model.add(Conv2D(32, (3, 3),activation = 'relu',input_shape = (64, 64, 3)))\n",
    "\n",
    "# Add a max pooling layer, with a pool_size of (2,2)\n",
    "model.add(MaxPooling2D(pool_size = (2, 2)))\n",
    "\n",
    "# Add a three more pairs of convolution and max pooling layers with the same\n",
    "# parameters as above.  Don't specify input_shape for the convolutional layer this time\n",
    "# since it can be inferred from the previous layer.\n",
    "\n",
    "model.add(Conv2D(32, (3, 3), activation = 'relu'))\n",
    "model.add(MaxPooling2D(pool_size = (2, 2)))\n",
    "\n",
    "model.add(Conv2D(32, (3, 3), activation = 'relu'))\n",
    "model.add(MaxPooling2D(pool_size = (2, 2)))\n",
    "\n",
    "model.add(Conv2D(32, (3, 3), activation = 'relu'))\n",
    "model.add(MaxPooling2D(pool_size = (2, 2)))\n",
    "\n",
    "# Add a flattening layer.\n",
    "model.add(Flatten())\n",
    "\n",
    "# Add a fully connected layer with 128 units and the RELU activation function. This\n",
    "# will be a hidden layer.  Use the L2 kernel regularizer.\n",
    "model.add(Dense(128, activation = 'relu', kernel_regularizer = regularizers.l2(0.01)))\n",
    " \n",
    "# Add a fully connected layer with 1 unit and the sigmoid activation function.  This\n",
    "# will be the output layer.\n",
    "model.add(Dense(1, activation = 'sigmoid'))\n",
    "\n",
    "# Compile the CNN using the compile() method.  Use the 'adam' optimizer, and the \n",
    "# 'binary_crossentropy' loss function.  Use the parameter metrics=['accuracy'].  \n",
    "model.compile(optimizer = 'adam', loss = 'binary_crossentropy', metrics = ['accuracy'])\n",
    "\n",
    "#Print a Summary of the Architecture by calling the summary() method of the model object.\n",
    "model.summary()"
   ]
  },
  {
   "cell_type": "markdown",
   "metadata": {},
   "source": [
    "# Step 2: Load Images and Prepare the Network for training"
   ]
  },
  {
   "cell_type": "code",
   "execution_count": 4,
   "metadata": {},
   "outputs": [
    {
     "name": "stdout",
     "output_type": "stream",
     "text": [
      "Found 23000 images belonging to 2 classes.\n",
      "Found 2000 images belonging to 2 classes.\n"
     ]
    }
   ],
   "source": [
    "#Train and Test ImageDataGenerator code\n",
    "\n",
    "# Here is the training dataset generator.  It uses real-time data augmentation allowing horizontal flips, \n",
    "# and a modest amount of zooming and shearing.\n",
    "train_datagen = image.ImageDataGenerator(rescale = 1./255, \n",
    "                                   shear_range = 0.2,\n",
    "                                   zoom_range = 0.2,\n",
    "                                   horizontal_flip = True)\n",
    "\n",
    "# Here is the validation dataset generator.  It doesn't need any data augmentation.\n",
    "validation_datagen = image.ImageDataGenerator(rescale = 1./255)\n",
    "\n",
    "\n",
    "# Load the training set using train_datagen.flow_from_directory().  Use\n",
    "# target_size = (32,32), batch_size=32, and class_mode = 'binary'.\n",
    "training_set = train_datagen.flow_from_directory('dataset_jpg_square/train',\n",
    "                                                 target_size = (64, 64), \n",
    "                                                 batch_size = 32, \n",
    "                                                 class_mode = 'binary')\n",
    "\n",
    "\n",
    "# Load the validation dataset using validation_datagen.flow_from_directory(). \n",
    "# Use the same parameters as above.\n",
    "validation_set = validation_datagen.flow_from_directory('dataset_jpg_square/valid',\n",
    "                                                 target_size = (64, 64), \n",
    "                                                 batch_size = 32, \n",
    "                                                 class_mode = 'binary')\n"
   ]
  },
  {
   "cell_type": "markdown",
   "metadata": {},
   "source": [
    "# Step 3: Run the CNN Network"
   ]
  },
  {
   "cell_type": "code",
   "execution_count": null,
   "metadata": {},
   "outputs": [
    {
     "name": "stdout",
     "output_type": "stream",
     "text": [
      "Epoch 1/40\n",
      "718/718 [==============================] - 219s 305ms/step - loss: 0.2002 - acc: 0.9172 - val_loss: 0.2566 - val_acc: 0.8985\n",
      "Epoch 2/40\n",
      "718/718 [==============================] - 216s 300ms/step - loss: 0.2051 - acc: 0.9183 - val_loss: 0.2404 - val_acc: 0.9025\n",
      "Epoch 3/40\n",
      "718/718 [==============================] - 216s 301ms/step - loss: 0.2083 - acc: 0.9149 - val_loss: 0.2572 - val_acc: 0.8995\n",
      "Epoch 4/40\n",
      "718/718 [==============================] - 216s 301ms/step - loss: 0.2037 - acc: 0.9175 - val_loss: 0.2811 - val_acc: 0.8950\n",
      "Epoch 5/40\n",
      "718/718 [==============================] - 216s 301ms/step - loss: 0.2079 - acc: 0.9158 - val_loss: 0.2493 - val_acc: 0.9005\n",
      "Epoch 6/40\n",
      "718/718 [==============================] - 216s 300ms/step - loss: 0.2082 - acc: 0.9143 - val_loss: 0.2791 - val_acc: 0.8880\n",
      "Epoch 7/40\n",
      "718/718 [==============================] - 215s 300ms/step - loss: 0.2028 - acc: 0.9168 - val_loss: 0.2481 - val_acc: 0.9005\n",
      "Epoch 8/40\n",
      "718/718 [==============================] - 216s 300ms/step - loss: 0.2024 - acc: 0.9173 - val_loss: 0.2531 - val_acc: 0.9050\n",
      "Epoch 9/40\n",
      "718/718 [==============================] - 216s 300ms/step - loss: 0.1997 - acc: 0.9175 - val_loss: 0.2557 - val_acc: 0.9005\n",
      "Epoch 11/40\n",
      "718/718 [==============================] - 216s 300ms/step - loss: 0.1990 - acc: 0.9209 - val_loss: 0.2872 - val_acc: 0.8870\n",
      "Epoch 12/40\n",
      "718/718 [==============================] - 216s 300ms/step - loss: 0.1925 - acc: 0.9221 - val_loss: 0.2562 - val_acc: 0.8930\n",
      "Epoch 13/40\n",
      "718/718 [==============================] - 216s 300ms/step - loss: 0.2031 - acc: 0.9164 - val_loss: 0.2445 - val_acc: 0.9010\n",
      "Epoch 14/40\n",
      "486/718 [===================>..........] - ETA: 1:05 - loss: 0.1931 - acc: 0.9221"
     ]
    },
    {
     "name": "stderr",
     "output_type": "stream",
     "text": [
      "IOPub message rate exceeded.\n",
      "The notebook server will temporarily stop sending output\n",
      "to the client in order to avoid crashing it.\n",
      "To change this limit, set the config variable\n",
      "`--NotebookApp.iopub_msg_rate_limit`.\n",
      "\n",
      "Current values:\n",
      "NotebookApp.iopub_msg_rate_limit=1000.0 (msgs/sec)\n",
      "NotebookApp.rate_limit_window=3.0 (secs)\n",
      "\n"
     ]
    },
    {
     "name": "stdout",
     "output_type": "stream",
     "text": [
      "718/718 [==============================] - 216s 300ms/step - loss: 0.1918 - acc: 0.9225 - val_loss: 0.2702 - val_acc: 0.8870\n",
      "Epoch 20/40\n",
      "718/718 [==============================] - 216s 300ms/step - loss: 0.1930 - acc: 0.9216 - val_loss: 0.2817 - val_acc: 0.8940\n",
      "Epoch 21/40\n",
      "718/718 [==============================] - 216s 300ms/step - loss: 0.1942 - acc: 0.9218 - val_loss: 0.2849 - val_acc: 0.8815\n",
      "Epoch 22/40\n",
      "718/718 [==============================] - 216s 300ms/step - loss: 0.1897 - acc: 0.9218 - val_loss: 0.2676 - val_acc: 0.8860\n",
      "Epoch 23/40\n",
      "718/718 [==============================] - 216s 300ms/step - loss: 0.1866 - acc: 0.9255 - val_loss: 0.2745 - val_acc: 0.8930\n",
      "Epoch 24/40\n",
      "718/718 [==============================] - 215s 300ms/step - loss: 0.1934 - acc: 0.9223 - val_loss: 0.2510 - val_acc: 0.8975\n",
      "Epoch 25/40\n",
      "718/718 [==============================] - 215s 300ms/step - loss: 0.1925 - acc: 0.9212 - val_loss: 0.3020 - val_acc: 0.8875\n",
      "Epoch 26/40\n",
      "718/718 [==============================] - 216s 300ms/step - loss: 0.1945 - acc: 0.9207 - val_loss: 0.2954 - val_acc: 0.8770\n",
      "Epoch 27/40\n",
      "167/718 [=====>........................] - ETA: 2:34 - loss: 0.1929 - acc: 0.9200"
     ]
    }
   ],
   "source": [
    "# Train the CNN using the fit_generator() function of your CNN.  \n",
    "# Use steps_per_epoch=718, epochs=40, validation_data=validation_set,\n",
    "# and validation_steps=63, and verbose=1.\n",
    "#\n",
    "# We use steps_per_epoch = 718 because we have 23000 training images and a batch size of 32.\n",
    "# To ensure we run through the entire training set in one epoch, we need to run 23000/32 = 718 \n",
    "# different batches.\n",
    "#\n",
    "# We use validation_steps = 63 because we have 2000 validation images and again a batch size of 32,\n",
    "# so to ensure that we run through the entire validation set at the end of each epoch we need\n",
    "# to run 2000/32 = 63 batches.  \n",
    "# \n",
    "\n",
    "# You should see the loss function and the accuracy improving quite a bit after each of the \n",
    "# first few epochs.  Then it should slow down.  If you allow it to run for more than 40 epochs \n",
    "# you probably won't see much additional improvement (for me, after 55 epochs it was no better \n",
    "# than it was after 40 epochs).\n",
    "\n",
    "# Expect a long pause at the end of each epoch as it classifies images from the validation set.\n",
    "# You'll find that the validation accuracy does not improve much.  You should be able to get better \n",
    "# results by using larger (128x128) or (256,256) images instead of scaling down to 64x64, \n",
    "# but this takes vastly more time.  You can try if you have time.\n",
    "\n",
    "# This will take a while - maybe 2-3 hours.  On my computer (which is a pretty new\n",
    "# macbook pro) it took about 250 seconds per epoch. \n",
    "\n",
    "model = load_model('solution/Cat-Dog-64x64-3layer-maxpooling-2.h5')\n",
    "history = model.fit_generator(training_set, steps_per_epoch = 718, epochs = 40, \n",
    "                              validation_data = validation_set ,validation_steps = 63, verbose = 1)"
   ]
  },
  {
   "cell_type": "markdown",
   "metadata": {},
   "source": [
    "# Step 4: Save the model and weights for prediction"
   ]
  },
  {
   "cell_type": "code",
   "execution_count": 21,
   "metadata": {},
   "outputs": [
    {
     "name": "stdout",
     "output_type": "stream",
     "text": [
      "Saved model to disk\n"
     ]
    }
   ],
   "source": [
    "# Save the model using the save() method of the CNN model.\n",
    "\n",
    "model.save('solution/Cat-Dog-64x64-3layer-maxpooling-2.h5')\n",
    "print(\"Saved model to disk\")"
   ]
  },
  {
   "cell_type": "markdown",
   "metadata": {},
   "source": [
    "# Step 5: Plot the training and Validation Loss/Accuracy"
   ]
  },
  {
   "cell_type": "code",
   "execution_count": 22,
   "metadata": {},
   "outputs": [
    {
     "data": {
      "text/plain": [
       "Text(0.5,1,'History of training and validation loss')"
      ]
     },
     "execution_count": 22,
     "metadata": {},
     "output_type": "execute_result"
    },
    {
     "data": {
      "image/png": "[encoded data removed]",
      "text/plain": [
       "<Figure size 432x288 with 1 Axes>"
      ]
     },
     "metadata": {
      "needs_background": "light"
     },
     "output_type": "display_data"
    },
    {
     "data": {
      "image/png": "[encoded data removed]",
      "text/plain": [
       "<Figure size 432x288 with 1 Axes>"
      ]
     },
     "metadata": {
      "needs_background": "light"
     },
     "output_type": "display_data"
    }
   ],
   "source": [
    "# Get the history of the training and validation accuracy and loss \n",
    "# from the history object returned by model.fit_generator().  Plot\n",
    "# two graphs as described in the assignment PDF.  \n",
    "#\n",
    "# e.g. history.history['acc'] is an array of the training accuracy for each epoch.\n",
    "fig1 = plt.figure()\n",
    "epoch = np.arange(1, 41, step = 1)\n",
    "plt.plot(epoch, history.history['acc'])\n",
    "plt.plot(epoch, history.history['val_acc'])\n",
    "plt.legend(['training', 'validation'])\n",
    "plt.title('History of training and validation accuracy')\n",
    "\n",
    "fig2 = plt.figure()\n",
    "plt.plot(epoch, history.history['loss'])\n",
    "plt.plot(epoch, history.history['val_loss'])\n",
    "plt.legend(['training', 'validation'])\n",
    "plt.title('History of training and validation loss')"
   ]
  },
  {
   "cell_type": "markdown",
   "metadata": {},
   "source": [
    "# Step 6: Predict Dog/Cat using the Trained Model"
   ]
  },
  {
   "cell_type": "code",
   "execution_count": 2,
   "metadata": {},
   "outputs": [
    {
     "name": "stdout",
     "output_type": "stream",
     "text": [
      "Classification rate: 0.809524\n"
     ]
    }
   ],
   "source": [
    "# Write your code to test the model here.\n",
    "\n",
    "# Start by loading your model from disk that you previously saved so you don't have to run through\n",
    "# the rest of the notebook just to test the model.  Use the load_model() function (already imported \n",
    "# above from keras.models).\n",
    "model = load_model('solution/Cat-Dog-64x64-3layer-maxpooling-2.h5')\n",
    "\n",
    "# Now load each of the test images and get a prediction (you'll know the ground truth because\n",
    "# you'll know which folder (cats or dogs) each image comes from.  Determine the correct classification\n",
    "# rate and print it out.  \n",
    "\n",
    "count_right = 0\n",
    "count_wrong = 0\n",
    "\n",
    "# test for cats\n",
    "path = os.path.join('.', 'dataset_jpg_square', 'test1', 'cats')\n",
    "for root, dirs, files in os.walk(path):\n",
    "    for filename in files:\n",
    "        if filename[-4:] != '.jpg':\n",
    "            continue\n",
    "        test_image = image.load_img(os.path.join(path, filename), target_size = (64, 64))\n",
    "        test_image = image.img_to_array(test_image)\n",
    "        test_image = np.expand_dims(test_image, axis = 0)\n",
    "        result = model.predict(test_image)\n",
    "        if result < 0.5:\n",
    "            count_right += 1\n",
    "        else:\n",
    "            count_wrong += 1\n",
    "\n",
    "# test for dogs \n",
    "path = os.path.join('.', 'dataset_jpg_square', 'test1', 'dogs')\n",
    "for root, dirs, files in os.walk(path):\n",
    "    for filename in files:\n",
    "        if filename[-4:] != '.jpg':\n",
    "            continue\n",
    "        test_image = image.load_img(os.path.join(path, filename), target_size = (64, 64))\n",
    "        test_image = image.img_to_array(test_image)\n",
    "        test_image = np.expand_dims(test_image, axis = 0)\n",
    "        result = model.predict(test_image)\n",
    "        if result > 0.5:\n",
    "            count_right += 1\n",
    "        else:\n",
    "            count_wrong += 1\n",
    "\n",
    "print(\"Classification rate: %f\" % (count_right / (count_right + count_wrong)))"
   ]
  },
  {
   "cell_type": "code",
   "execution_count": null,
   "metadata": {},
   "outputs": [],
   "source": []
  }
 ],
 "metadata": {
  "kernelspec": {
   "display_name": "Python 3",
   "language": "python",
   "name": "python3"
  },
  "language_info": {
   "codemirror_mode": {
    "name": "ipython",
    "version": 3
   },
   "file_extension": ".py",
   "mimetype": "text/x-python",
   "name": "python",
   "nbconvert_exporter": "python",
   "pygments_lexer": "ipython3",
   "version": "3.6.7"
  }
 },
 "nbformat": 4,
 "nbformat_minor": 1
}
