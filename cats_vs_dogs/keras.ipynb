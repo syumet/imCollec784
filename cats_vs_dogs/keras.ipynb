{
 "cells": [
  {
   "cell_type": "markdown",
   "metadata": {
    "collapsed": true
   },
   "source": [
    "# Import Libraries "
   ]
  },
  {
   "cell_type": "markdown",
   "metadata": {},
   "source": [
    "Import all the required Tensorflow and Keras libraries"
   ]
  },
  {
   "cell_type": "code",
   "execution_count": 1,
   "metadata": {},
   "outputs": [
    {
     "name": "stdout",
     "output_type": "stream",
     "text": [
      "True\n"
     ]
    },
    {
     "name": "stderr",
     "output_type": "stream",
     "text": [
      "Using TensorFlow backend.\n"
     ]
    }
   ],
   "source": [
    "import os as os\n",
    "import numpy as np\n",
    "import tensorflow as tf\n",
    "import matplotlib.pyplot as plt\n",
    "\n",
    "from keras.models import load_model\n",
    "from keras.models import Sequential\n",
    "from keras.layers import Conv2D\n",
    "from keras.layers import MaxPooling2D\n",
    "from keras.layers import Flatten\n",
    "from keras.layers import Dense\n",
    "from keras.preprocessing import image\n",
    "from keras import regularizers\n",
    "\n",
    "print(tf.test.is_gpu_available())"
   ]
  },
  {
   "cell_type": "markdown",
   "metadata": {},
   "source": [
    " # Step 1: Design the CNN architecture. After designing the architecture, print it in iPython Notebook. \n"
   ]
  },
  {
   "cell_type": "code",
   "execution_count": 2,
   "metadata": {},
   "outputs": [
    {
     "name": "stderr",
     "output_type": "stream",
     "text": [
      "WARNING: Logging before flag parsing goes to stderr.\n",
      "W0912 21:52:49.265792 140371698231104 deprecation_wrapper.py:119] From /home/xil/miniconda3/envs/tf_gpu/lib/python3.7/site-packages/keras/backend/tensorflow_backend.py:66: The name tf.get_default_graph is deprecated. Please use tf.compat.v1.get_default_graph instead.\n",
      "\n",
      "W0912 21:52:49.267357 140371698231104 deprecation_wrapper.py:119] From /home/xil/miniconda3/envs/tf_gpu/lib/python3.7/site-packages/keras/backend/tensorflow_backend.py:541: The name tf.placeholder is deprecated. Please use tf.compat.v1.placeholder instead.\n",
      "\n",
      "W0912 21:52:49.268987 140371698231104 deprecation_wrapper.py:119] From /home/xil/miniconda3/envs/tf_gpu/lib/python3.7/site-packages/keras/backend/tensorflow_backend.py:4432: The name tf.random_uniform is deprecated. Please use tf.random.uniform instead.\n",
      "\n",
      "W0912 21:52:49.279179 140371698231104 deprecation_wrapper.py:119] From /home/xil/miniconda3/envs/tf_gpu/lib/python3.7/site-packages/keras/backend/tensorflow_backend.py:4267: The name tf.nn.max_pool is deprecated. Please use tf.nn.max_pool2d instead.\n",
      "\n",
      "W0912 21:52:49.329149 140371698231104 deprecation_wrapper.py:119] From /home/xil/miniconda3/envs/tf_gpu/lib/python3.7/site-packages/keras/optimizers.py:793: The name tf.train.Optimizer is deprecated. Please use tf.compat.v1.train.Optimizer instead.\n",
      "\n",
      "W0912 21:52:49.341851 140371698231104 deprecation_wrapper.py:119] From /home/xil/miniconda3/envs/tf_gpu/lib/python3.7/site-packages/keras/backend/tensorflow_backend.py:3657: The name tf.log is deprecated. Please use tf.math.log instead.\n",
      "\n",
      "W0912 21:52:49.344694 140371698231104 deprecation.py:323] From /home/xil/miniconda3/envs/tf_gpu/lib/python3.7/site-packages/tensorflow/python/ops/nn_impl.py:180: add_dispatch_support.<locals>.wrapper (from tensorflow.python.ops.array_ops) is deprecated and will be removed in a future version.\n",
      "Instructions for updating:\n",
      "Use tf.where in 2.0, which has the same broadcast rule as np.where\n"
     ]
    },
    {
     "name": "stdout",
     "output_type": "stream",
     "text": [
      "Model: \"sequential_1\"\n",
      "_________________________________________________________________\n",
      "Layer (type)                 Output Shape              Param #   \n",
      "=================================================================\n",
      "conv2d_1 (Conv2D)            (None, 62, 62, 32)        896       \n",
      "_________________________________________________________________\n",
      "max_pooling2d_1 (MaxPooling2 (None, 31, 31, 32)        0         \n",
      "_________________________________________________________________\n",
      "conv2d_2 (Conv2D)            (None, 29, 29, 32)        9248      \n",
      "_________________________________________________________________\n",
      "max_pooling2d_2 (MaxPooling2 (None, 14, 14, 32)        0         \n",
      "_________________________________________________________________\n",
      "conv2d_3 (Conv2D)            (None, 12, 12, 32)        9248      \n",
      "_________________________________________________________________\n",
      "max_pooling2d_3 (MaxPooling2 (None, 6, 6, 32)          0         \n",
      "_________________________________________________________________\n",
      "conv2d_4 (Conv2D)            (None, 4, 4, 32)          9248      \n",
      "_________________________________________________________________\n",
      "max_pooling2d_4 (MaxPooling2 (None, 2, 2, 32)          0         \n",
      "_________________________________________________________________\n",
      "flatten_1 (Flatten)          (None, 128)               0         \n",
      "_________________________________________________________________\n",
      "dense_1 (Dense)              (None, 128)               16512     \n",
      "_________________________________________________________________\n",
      "dense_2 (Dense)              (None, 1)                 129       \n",
      "=================================================================\n",
      "Total params: 45,281\n",
      "Trainable params: 45,281\n",
      "Non-trainable params: 0\n",
      "_________________________________________________________________\n"
     ]
    }
   ],
   "source": [
    "# THE CODE DEFINING THE NETWORK ARCHITECTURE\n",
    "\n",
    "# Initialize a CNN model object using the Sequential() function from keras.models\n",
    "model = Sequential()\n",
    "\n",
    "# Add a convolution layer with 32 feature maps of shape (3,3), and input_shape=(64,64,3).\n",
    "# Use 'relu' for the activation function.\n",
    "model.add(Conv2D(32, (3, 3), activation = 'relu', input_shape = (64, 64, 3)))\n",
    "\n",
    "# Add a max pooling layer, with a pool_size of (2,2)\n",
    "model.add(MaxPooling2D(pool_size = (2, 2)))\n",
    "\n",
    "# Add a three more pairs of convolution and max pooling layers with the same\n",
    "# parameters as above.  Don't specify input_shape for the convolutional layer this time\n",
    "# since it can be inferred from the previous layer.\n",
    "\n",
    "model.add(Conv2D(32, (3, 3), activation = 'relu'))\n",
    "model.add(MaxPooling2D(pool_size = (2, 2)))\n",
    "\n",
    "model.add(Conv2D(32, (3, 3), activation = 'relu'))\n",
    "model.add(MaxPooling2D(pool_size = (2, 2)))\n",
    "\n",
    "model.add(Conv2D(32, (3, 3), activation = 'relu'))\n",
    "model.add(MaxPooling2D(pool_size = (2, 2)))\n",
    "\n",
    "# Add a flattening layer.\n",
    "model.add(Flatten())\n",
    "\n",
    "# Add a fully connected layer with 128 units and the RELU activation function. This\n",
    "# will be a hidden layer.  Use the L2 kernel regularizer.\n",
    "model.add(Dense(128, activation = 'relu', kernel_regularizer = regularizers.l2(0.01)))\n",
    " \n",
    "# Add a fully connected layer with 1 unit and the sigmoid activation function.  This\n",
    "# will be the output layer.\n",
    "model.add(Dense(1, activation = 'sigmoid'))\n",
    "\n",
    "# Compile the CNN using the compile() method.  Use the 'adam' optimizer, and the \n",
    "# 'binary_crossentropy' loss function.  Use the parameter metrics=['accuracy'].  \n",
    "model.compile(optimizer = 'adam', loss = 'binary_crossentropy', metrics = ['accuracy'])\n",
    "\n",
    "#Print a Summary of the Architecture by calling the summary() method of the model object.\n",
    "model.summary()"
   ]
  },
  {
   "cell_type": "markdown",
   "metadata": {},
   "source": [
    "# Step 2: Load Images and Prepare the Network for training"
   ]
  },
  {
   "cell_type": "code",
   "execution_count": 3,
   "metadata": {},
   "outputs": [
    {
     "name": "stdout",
     "output_type": "stream",
     "text": [
      "Found 23000 images belonging to 2 classes.\n",
      "Found 2000 images belonging to 2 classes.\n"
     ]
    }
   ],
   "source": [
    "#Train and Test ImageDataGenerator code\n",
    "\n",
    "# Here is the training dataset generator.  It uses real-time data augmentation allowing horizontal flips, \n",
    "# and a modest amount of zooming and shearing.\n",
    "train_datagen = image.ImageDataGenerator(rescale = 1./255, \n",
    "                                   shear_range = 0.2,\n",
    "                                   zoom_range = 0.2,\n",
    "                                   horizontal_flip = True)\n",
    "\n",
    "# Here is the validation dataset generator.  It doesn't need any data augmentation.\n",
    "validation_datagen = image.ImageDataGenerator(rescale = 1./255)\n",
    "\n",
    "\n",
    "# Load the training set using train_datagen.flow_from_directory().  Use\n",
    "# target_size = (32,32), batch_size=32, and class_mode = 'binary'.\n",
    "training_set = train_datagen.flow_from_directory('dataset_jpg_square/train',\n",
    "                                                 target_size = (64, 64), \n",
    "                                                 batch_size = 32, \n",
    "                                                 class_mode = 'binary')\n",
    "\n",
    "\n",
    "# Load the validation dataset using validation_datagen.flow_from_directory(). \n",
    "# Use the same parameters as above.\n",
    "validation_set = validation_datagen.flow_from_directory('dataset_jpg_square/valid',\n",
    "                                                 target_size = (64, 64), \n",
    "                                                 batch_size = 32, \n",
    "                                                 class_mode = 'binary')"
   ]
  },
  {
   "cell_type": "markdown",
   "metadata": {},
   "source": [
    "# Step 3: Run the CNN Network"
   ]
  },
  {
   "cell_type": "code",
   "execution_count": 4,
   "metadata": {},
   "outputs": [
    {
     "name": "stderr",
     "output_type": "stream",
     "text": [
      "W0912 21:53:17.024908 140371698231104 deprecation_wrapper.py:119] From /home/xil/miniconda3/envs/tf_gpu/lib/python3.7/site-packages/keras/backend/tensorflow_backend.py:1033: The name tf.assign_add is deprecated. Please use tf.compat.v1.assign_add instead.\n",
      "\n"
     ]
    },
    {
     "name": "stdout",
     "output_type": "stream",
     "text": [
      "Epoch 1/40\n",
      "718/718 [==============================] - 64s 89ms/step - loss: 0.7443 - acc: 0.6114 - val_loss: 0.6231 - val_acc: 0.6510\n",
      "Epoch 2/40\n",
      "718/718 [==============================] - 62s 86ms/step - loss: 0.5785 - acc: 0.7049 - val_loss: 0.5194 - val_acc: 0.7450\n",
      "Epoch 3/40\n",
      "718/718 [==============================] - 61s 85ms/step - loss: 0.5268 - acc: 0.7448 - val_loss: 0.4712 - val_acc: 0.7850\n",
      "Epoch 4/40\n",
      "718/718 [==============================] - 61s 85ms/step - loss: 0.4816 - acc: 0.7762 - val_loss: 0.4636 - val_acc: 0.7900\n",
      "Epoch 5/40\n",
      "718/718 [==============================] - 61s 85ms/step - loss: 0.4582 - acc: 0.7890 - val_loss: 0.4652 - val_acc: 0.7765\n",
      "Epoch 6/40\n",
      "718/718 [==============================] - 61s 85ms/step - loss: 0.4343 - acc: 0.8028 - val_loss: 0.4087 - val_acc: 0.8210\n",
      "Epoch 7/40\n",
      "718/718 [==============================] - 61s 85ms/step - loss: 0.4198 - acc: 0.8144 - val_loss: 0.4170 - val_acc: 0.8165\n",
      "Epoch 8/40\n",
      "718/718 [==============================] - 61s 85ms/step - loss: 0.4063 - acc: 0.8201 - val_loss: 0.3948 - val_acc: 0.8295\n",
      "Epoch 9/40\n",
      "718/718 [==============================] - 62s 86ms/step - loss: 0.3953 - acc: 0.8270 - val_loss: 0.3951 - val_acc: 0.8320\n",
      "Epoch 10/40\n",
      "718/718 [==============================] - 61s 84ms/step - loss: 0.3834 - acc: 0.8311 - val_loss: 0.3769 - val_acc: 0.8390\n",
      "Epoch 11/40\n",
      "718/718 [==============================] - 60s 84ms/step - loss: 0.3757 - acc: 0.8345 - val_loss: 0.3564 - val_acc: 0.8455\n",
      "Epoch 12/40\n",
      "718/718 [==============================] - 61s 85ms/step - loss: 0.3594 - acc: 0.8425 - val_loss: 0.4065 - val_acc: 0.8215\n",
      "Epoch 13/40\n",
      "718/718 [==============================] - 61s 85ms/step - loss: 0.3523 - acc: 0.8481 - val_loss: 0.3619 - val_acc: 0.8470\n",
      "Epoch 14/40\n",
      "718/718 [==============================] - 61s 85ms/step - loss: 0.3470 - acc: 0.8513 - val_loss: 0.3363 - val_acc: 0.8500\n",
      "Epoch 15/40\n",
      "718/718 [==============================] - 61s 85ms/step - loss: 0.3396 - acc: 0.8525 - val_loss: 0.3915 - val_acc: 0.8250\n",
      "Epoch 16/40\n",
      "718/718 [==============================] - 61s 85ms/step - loss: 0.3361 - acc: 0.8551 - val_loss: 0.3298 - val_acc: 0.8620\n",
      "Epoch 17/40\n",
      "718/718 [==============================] - 61s 85ms/step - loss: 0.3292 - acc: 0.8598 - val_loss: 0.3275 - val_acc: 0.8635\n",
      "Epoch 18/40\n",
      "718/718 [==============================] - 61s 85ms/step - loss: 0.3268 - acc: 0.8619 - val_loss: 0.3581 - val_acc: 0.8460\n",
      "Epoch 19/40\n",
      "718/718 [==============================] - 61s 85ms/step - loss: 0.3246 - acc: 0.8629 - val_loss: 0.4165 - val_acc: 0.8170\n",
      "Epoch 20/40\n",
      "718/718 [==============================] - 61s 85ms/step - loss: 0.3169 - acc: 0.8642 - val_loss: 0.3750 - val_acc: 0.8465\n",
      "Epoch 21/40\n",
      "718/718 [==============================] - 61s 85ms/step - loss: 0.3165 - acc: 0.8663 - val_loss: 0.3641 - val_acc: 0.8395\n",
      "Epoch 22/40\n",
      "718/718 [==============================] - 61s 85ms/step - loss: 0.3117 - acc: 0.8692 - val_loss: 0.3310 - val_acc: 0.8585\n",
      "Epoch 23/40\n",
      "718/718 [==============================] - 61s 85ms/step - loss: 0.2998 - acc: 0.8744 - val_loss: 0.3201 - val_acc: 0.8635\n",
      "Epoch 24/40\n",
      "718/718 [==============================] - 62s 86ms/step - loss: 0.3061 - acc: 0.8697 - val_loss: 0.3338 - val_acc: 0.8615\n",
      "Epoch 25/40\n",
      "718/718 [==============================] - 63s 88ms/step - loss: 0.2970 - acc: 0.8723 - val_loss: 0.3126 - val_acc: 0.8695\n",
      "Epoch 26/40\n",
      "718/718 [==============================] - 61s 86ms/step - loss: 0.2974 - acc: 0.8778 - val_loss: 0.3122 - val_acc: 0.8750\n",
      "Epoch 27/40\n",
      "718/718 [==============================] - 61s 85ms/step - loss: 0.2908 - acc: 0.8770 - val_loss: 0.3095 - val_acc: 0.8730\n",
      "Epoch 28/40\n",
      "718/718 [==============================] - 61s 85ms/step - loss: 0.2834 - acc: 0.8790 - val_loss: 0.3168 - val_acc: 0.8685\n",
      "Epoch 29/40\n",
      "718/718 [==============================] - 61s 85ms/step - loss: 0.2879 - acc: 0.8784 - val_loss: 0.2962 - val_acc: 0.8730\n",
      "Epoch 30/40\n",
      "718/718 [==============================] - 62s 87ms/step - loss: 0.2851 - acc: 0.8807 - val_loss: 0.3366 - val_acc: 0.8550\n",
      "Epoch 31/40\n",
      "718/718 [==============================] - 61s 85ms/step - loss: 0.2804 - acc: 0.8844 - val_loss: 0.3318 - val_acc: 0.8580\n",
      "Epoch 32/40\n",
      "718/718 [==============================] - 61s 85ms/step - loss: 0.2740 - acc: 0.8870 - val_loss: 0.2914 - val_acc: 0.8730\n",
      "Epoch 33/40\n",
      "718/718 [==============================] - 61s 85ms/step - loss: 0.2679 - acc: 0.8897 - val_loss: 0.3139 - val_acc: 0.8790\n",
      "Epoch 34/40\n",
      "718/718 [==============================] - 61s 85ms/step - loss: 0.2709 - acc: 0.8862 - val_loss: 0.3019 - val_acc: 0.8720\n",
      "Epoch 35/40\n",
      "718/718 [==============================] - 62s 87ms/step - loss: 0.2680 - acc: 0.8908 - val_loss: 0.3464 - val_acc: 0.8550\n",
      "Epoch 36/40\n",
      "718/718 [==============================] - 61s 85ms/step - loss: 0.2686 - acc: 0.8891 - val_loss: 0.3069 - val_acc: 0.8720\n",
      "Epoch 37/40\n",
      "718/718 [==============================] - 61s 85ms/step - loss: 0.2706 - acc: 0.8849 - val_loss: 0.2982 - val_acc: 0.8795\n",
      "Epoch 38/40\n",
      "718/718 [==============================] - 61s 85ms/step - loss: 0.2621 - acc: 0.8908 - val_loss: 0.2959 - val_acc: 0.8785\n",
      "Epoch 39/40\n",
      "718/718 [==============================] - 61s 85ms/step - loss: 0.2594 - acc: 0.8926 - val_loss: 0.2984 - val_acc: 0.8680\n",
      "Epoch 40/40\n",
      "718/718 [==============================] - 61s 85ms/step - loss: 0.2521 - acc: 0.8960 - val_loss: 0.2980 - val_acc: 0.8700\n"
     ]
    }
   ],
   "source": [
    "# Train the CNN using the fit_generator() function of your CNN.  \n",
    "# Use steps_per_epoch=718, epochs=40, validation_data=validation_set,\n",
    "# and validation_steps=63, and verbose=1.\n",
    "#\n",
    "# We use steps_per_epoch = 718 because we have 23000 training images and a batch size of 32.\n",
    "# To ensure we run through the entire training set in one epoch, we need to run 23000/32 = 718 \n",
    "# different batches.\n",
    "#\n",
    "# We use validation_steps = 63 because we have 2000 validation images and again a batch size of 32,\n",
    "# so to ensure that we run through the entire validation set at the end of each epoch we need\n",
    "# to run 2000/32 = 63 batches.  \n",
    "# \n",
    "\n",
    "# You should see the loss function and the accuracy improving quite a bit after each of the \n",
    "# first few epochs.  Then it should slow down.  If you allow it to run for more than 40 epochs \n",
    "# you probably won't see much additional improvement (for me, after 55 epochs it was no better \n",
    "# than it was after 40 epochs).\n",
    "\n",
    "# Expect a long pause at the end of each epoch as it classifies images from the validation set.\n",
    "# You'll find that the validation accuracy does not improve much.  You should be able to get better \n",
    "# results by using larger (128x128) or (256,256) images instead of scaling down to 64x64, \n",
    "# but this takes vastly more time.  You can try if you have time.\n",
    "\n",
    "# This will take a while - maybe 2-3 hours.  On my computer (which is a pretty new\n",
    "# macbook pro) it took about 250 seconds per epoch. \n",
    "\n",
    "#model = load_model('solution/Cat-Dog-64x64-3layer-maxpooling-2.h5')\n",
    "history = model.fit_generator(training_set, steps_per_epoch = 718, epochs = 40, \n",
    "                              validation_data = validation_set ,validation_steps = 63, verbose = 1)"
   ]
  },
  {
   "cell_type": "markdown",
   "metadata": {},
   "source": [
    "# Step 4: Save the model and weights for prediction"
   ]
  },
  {
   "cell_type": "code",
   "execution_count": 5,
   "metadata": {},
   "outputs": [
    {
     "name": "stdout",
     "output_type": "stream",
     "text": [
      "Saved model to disk\n"
     ]
    }
   ],
   "source": [
    "# Save the model using the save() method of the CNN model.\n",
    "\n",
    "model.save('solution/Cat-Dog-64x64-3layer-maxpooling-2.h5')\n",
    "print(\"Saved model to disk\")"
   ]
  },
  {
   "cell_type": "markdown",
   "metadata": {},
   "source": [
    "# Step 5: Plot the training and Validation Loss/Accuracy"
   ]
  },
  {
   "cell_type": "code",
   "execution_count": 6,
   "metadata": {},
   "outputs": [
    {
     "data": {
      "text/plain": [
       "Text(0.5, 1.0, 'History of training and validation loss')"
      ]
     },
     "execution_count": 6,
     "metadata": {},
     "output_type": "execute_result"
    },
    {
     "data": {
      "image/png": "[encoded data removed]",
      "text/plain": [
       "<Figure size 432x288 with 1 Axes>"
      ]
     },
     "metadata": {
      "needs_background": "light"
     },
     "output_type": "display_data"
    },
    {
     "data": {
      "image/png": "[encoded data removed]",
      "text/plain": [
       "<Figure size 432x288 with 1 Axes>"
      ]
     },
     "metadata": {
      "needs_background": "light"
     },
     "output_type": "display_data"
    }
   ],
   "source": [
    "# Get the history of the training and validation accuracy and loss \n",
    "# from the history object returned by model.fit_generator().  Plot\n",
    "# two graphs as described in the assignment PDF.  \n",
    "#\n",
    "# e.g. history.history['acc'] is an array of the training accuracy for each epoch.\n",
    "%matplotlib inline\n",
    "\n",
    "fig1 = plt.figure()\n",
    "epoch = np.arange(1, 41, step = 1)\n",
    "plt.plot(epoch, history.history['acc'])\n",
    "plt.plot(epoch, history.history['val_acc'])\n",
    "plt.legend(['training', 'validation'])\n",
    "plt.title('History of training and validation accuracy')\n",
    "\n",
    "fig2 = plt.figure()\n",
    "plt.plot(epoch, history.history['loss'])\n",
    "plt.plot(epoch, history.history['val_loss'])\n",
    "plt.legend(['training', 'validation'])\n",
    "plt.title('History of training and validation loss')"
   ]
  },
  {
   "cell_type": "markdown",
   "metadata": {},
   "source": [
    "# Step 6: Predict Dog/Cat using the Trained Model"
   ]
  },
  {
   "cell_type": "code",
   "execution_count": 7,
   "metadata": {},
   "outputs": [
    {
     "name": "stdout",
     "output_type": "stream",
     "text": [
      "Classification rate: 0.769424\n"
     ]
    }
   ],
   "source": [
    "# Write your code to test the model here.\n",
    "\n",
    "# Start by loading your model from disk that you previously saved so you don't have to run through\n",
    "# the rest of the notebook just to test the model.  Use the load_model() function (already imported \n",
    "# above from keras.models).\n",
    "model = load_model('solution/Cat-Dog-64x64-3layer-maxpooling-2.h5')\n",
    "\n",
    "# Now load each of the test images and get a prediction (you'll know the ground truth because\n",
    "# you'll know which folder (cats or dogs) each image comes from.  Determine the correct classification\n",
    "# rate and print it out.  \n",
    "\n",
    "count_right = 0\n",
    "count_wrong = 0\n",
    "\n",
    "# test for cats\n",
    "path = os.path.join('.', 'dataset_jpg_square', 'test1', 'cats')\n",
    "for root, dirs, files in os.walk(path):\n",
    "    for filename in files:\n",
    "        if filename[-4:] != '.jpg':\n",
    "            continue\n",
    "        test_image = image.load_img(os.path.join(path, filename), target_size = (64, 64))\n",
    "        test_image = image.img_to_array(test_image)\n",
    "        test_image = np.expand_dims(test_image, axis = 0)\n",
    "        result = model.predict(test_image)\n",
    "        if result < 0.5:\n",
    "            count_right += 1\n",
    "        else:\n",
    "            count_wrong += 1\n",
    "\n",
    "# test for dogs \n",
    "path = os.path.join('.', 'dataset_jpg_square', 'test1', 'dogs')\n",
    "for root, dirs, files in os.walk(path):\n",
    "    for filename in files:\n",
    "        if filename[-4:] != '.jpg':\n",
    "            continue\n",
    "        test_image = image.load_img(os.path.join(path, filename), target_size = (64, 64))\n",
    "        test_image = image.img_to_array(test_image)\n",
    "        test_image = np.expand_dims(test_image, axis = 0)\n",
    "        result = model.predict(test_image)\n",
    "        if result > 0.5:\n",
    "            count_right += 1\n",
    "        else:\n",
    "            count_wrong += 1\n",
    "\n",
    "print(\"Classification rate: %f\" % (count_right / (count_right + count_wrong)))"
   ]
  },
  {
   "cell_type": "code",
   "execution_count": null,
   "metadata": {},
   "outputs": [],
   "source": []
  }
 ],
 "metadata": {
  "kernelspec": {
   "display_name": "Python 3",
   "language": "python",
   "name": "python3"
  },
  "language_info": {
   "codemirror_mode": {
    "name": "ipython",
    "version": 3
   },
   "file_extension": ".py",
   "mimetype": "text/x-python",
   "name": "python",
   "nbconvert_exporter": "python",
   "pygments_lexer": "ipython3",
   "version": "3.7.4"
  }
 },
 "nbformat": 4,
 "nbformat_minor": 1
}
