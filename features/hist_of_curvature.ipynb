{
 "cells": [
  {
   "cell_type": "markdown",
   "metadata": {
    "collapsed": true
   },
   "source": [
    "# Step 1:  Implement the Histogram of Curvature Scale\n",
    "\n",
    "Write a function called HoCS that returns a histogram of curvature scale feature vector for a given region.  The inputs to your function should be:\n",
    "\n",
    "- `B`: a binary image that contains exactly one foreground connected component.\n",
    "- `min_scale`: The smallest scale (circle radius) at which to calcluate curvature\n",
    "- `max_scale`: The largest scale (circle radius) at which to calculate curvature\n",
    "- `increment`: The increment at which intermediate curvatures should be calculated (must be a positive integer)\n",
    "- `num_bins`: The number of bins in the histogram of curvature for a single scale (must be a positive integer)\n",
    "\n",
    "Your function should compute a histogram of curvature for each scale, starting at `min_scale` ending at (at most) `max_scale`, and for intermediate scales at increments of `increment`.  For example, if `min_scale`=4 and `max_scale`=20, and `increment`=3, then the function should compute a histogram of curvature for scales 4, 7, 10, 13, 16, and 19.  Each histogram at each scale should have `num_bins` bins.  Curvature must be computed using the normalized area integral invariant method described on Slide 39 of the Topic 9 lecture notes.  \n",
    "\n",
    "Normalize each histogram at each scale.\n",
    "\n",
    "To keep things straightforward, your functions should only consider the outer perimeter of the input region; ignore the boundaries of holes in the region.\n",
    "\n",
    "After computing the histogram of curvature at each of the specified scales, all of the histograms should be concatenated into a single one-dimensional array (feature vector) and then returned.\n",
    "\n",
    "_Implementation hint:  You can calculate the normalized area integral invariant of each pixel efficiently using linear filtering.  You will find the function `skimage.morphology.disk()` function useful for designing the appropriate filter masks._\n",
    "\n",
    "_Implementation hint:  Most of the heavy lifting here can be done with module functions from `skimage`, `numpy`, and `scipy`.  Many of the functions mentioned in class and in the notes will be useful.  One that we might not have covered, but will be very handy is `numpy.histogram()`.  When you use it, makes sure you specify both the `bins` and `range` optional arguments. Also note that `numpy.histogram()` returns TWO things.  You only need the first one, so make sure you write your function call like this:_\n",
    "\n",
    "`the_histogram, stuff_you_dont_need = np.histogram(...)`\n"
   ]
  },
  {
   "cell_type": "code",
   "execution_count": 1,
   "metadata": {},
   "outputs": [],
   "source": [
    "import numpy as np\n",
    "import scipy.ndimage as nd\n",
    "import skimage.segmentation as seg\n",
    "import skimage.morphology as morph\n",
    "\n",
    "def HoCS(B: np.ndarray, min_scale: int, max_scale: int, increment: int, num_bins: int) -> np.ndarray:\n",
    "    '''\n",
    "    Computes a histogram of curvature scale for the shape in the binary image B.  \n",
    "    Boundary fragments due to holes are ignored.\n",
    "    :param B: A binary image consisting of a single foreground connected component.\n",
    "    :param min_scale: smallest scale to consider (minimum 1)\n",
    "    :param max_scale: largest scale to consider (max_scale > min_scale)\n",
    "    :param increment:  increment on which to compute scales between min_scale and max_scale\n",
    "    :param num_bins: number of bins for the histogram at each scale\n",
    "    :return: 1D array of histograms concatenated together in order of increasing scale.\n",
    "    \n",
    "    Note: a curvature values are between 0.0 and 1.0 are interpreted thusly:\n",
    "       0.0 - values close to 0 arise from highly convex points.\n",
    "       0.5 - no curvature\n",
    "       1.0 - values close to 1 arise from highly concave points.\n",
    "    '''\n",
    "\n",
    "    if max_scale < min_scale:\n",
    "        raise ValueError('max_scale must be larger than min_scale')\n",
    "    if num_bins < 1:\n",
    "        raise ValueError('num_bins must be >= 1')\n",
    "    \n",
    "    b_holes_filled = nd.binary_fill_holes(B)\n",
    "    boundary_points = seg.find_boundaries(b_holes_filled, connectivity=1, mode='inner') \n",
    "    boundary_points = np.where(boundary_points > 0)\n",
    "    boundary_points = np.transpose(np.vstack(boundary_points))\n",
    "    \n",
    "    histograms = list()\n",
    "    for radius in np.arange(min_scale, max_scale + 1, increment):\n",
    "\n",
    "        disk = morph.disk(radius) \n",
    "        disk = disk / np.sum(disk)\n",
    "        \n",
    "        convolved = nd.filters.convolve(util.img_as_float(b_holes_filled), disk)\n",
    "        curvatures = convolved[boundary_points[ : , 0], boundary_points[ : , 1]]\n",
    "        \n",
    "        h, bin_edges = np.histogram(curvatures, bins=num_bins, range=(0.0, 1.0))\n",
    "        histograms.append(h / len(curvatures))\n",
    "        \n",
    "    return np.hstack(histograms)"
   ]
  },
  {
   "cell_type": "markdown",
   "metadata": {},
   "source": [
    "# Step 2: Test your HoCS function.\n",
    "\n",
    "Run HoCS on `threshimage_0001.png` from the ground truth for assignment 3.  Use `min_scale=5`, `max_scale=25`, `increment=10`, `num_bins=10`.  Plot the resulting feature vector as a bar graph.  Set the y-axis limits to be between 0.0 and 1.0.  You should get a result that matches the sample output in the assignment description.\n"
   ]
  },
  {
   "cell_type": "code",
   "execution_count": 2,
   "metadata": {},
   "outputs": [
    {
     "data": {
      "text/plain": [
       "<BarContainer object of 30 artists>"
      ]
     },
     "execution_count": 2,
     "metadata": {},
     "output_type": "execute_result"
    },
    {
     "data": {
      "image/png": "[encoded data removed]",
      "text/plain": [
       "<Figure size 648x432 with 1 Axes>"
      ]
     },
     "metadata": {
      "needs_background": "light"
     },
     "output_type": "display_data"
    }
   ],
   "source": [
    "import skimage.io as io\n",
    "import skimage.util as util\n",
    "import matplotlib.pyplot as plt \n",
    "\n",
    "%matplotlib inline\n",
    "\n",
    "img = util.img_as_float(io.imread('./leaftraining/threshimage_0001.png'))\n",
    "img_hist = HoCS(img, 5, 25, 10, 10)\n",
    "plt.figure(figsize=(9, 6))\n",
    "plt.bar(np.arange(len(img_hist)), img_hist)"
   ]
  },
  {
   "cell_type": "markdown",
   "metadata": {},
   "source": [
    "# Step 3: Calculate training features.\n",
    "\n",
    "Use your function from Step 1 to compute the HoCS feature for each of the training images.  Use them to train a k-nearest neigbour classifier.  It is up to you to determine the parameters for the HoCS feature such as `min_scale`, `max_scale`, etc. to maximize the classification rate.  This will require some experimentation.  Slides 19-21 of Topic 12 lecture notes will be helpful here.\n",
    "\n",
    "Also generate the training labels here (a column-array of numbers indicating which descriptors belong to each class, e.g. use values 1,2,3 to indicate class 1, 2, and 3.)."
   ]
  },
  {
   "cell_type": "code",
   "execution_count": 3,
   "metadata": {},
   "outputs": [
    {
     "name": "stderr",
     "output_type": "stream",
     "text": [
      "100%|██████████| 30/30 [02:01<00:00,  4.05s/it]\n"
     ]
    }
   ],
   "source": [
    "import os as os\n",
    "from tqdm import tqdm\n",
    "\n",
    "def get_features(path: str) -> tuple:\n",
    "    features = list()\n",
    "    for root, dirs, files in os.walk(path):\n",
    "        for f in tqdm(sorted(files)):\n",
    "            if f[-4 : ] == '.png':\n",
    "                #print('Calculating features for', f)\n",
    "                B = io.imread(os.path.join(root, f))\n",
    "                f = HoCS(B, min_scale=5, max_scale=30, increment=5, num_bins=15)\n",
    "                features.append(f)\n",
    "    return np.vstack(features), sorted(files) \n",
    "\n",
    "train_labels = np.zeros(30, dtype='int')\n",
    "train_labels[10:20] = 1\n",
    "train_labels[20:] = 2\n",
    "\n",
    "train_data, train_files = get_features(os.path.join('.', 'leaftraining')) "
   ]
  },
  {
   "cell_type": "markdown",
   "metadata": {},
   "source": [
    "## Step 3.1: Visualize the training features via dimension reduction "
   ]
  },
  {
   "cell_type": "code",
   "execution_count": 4,
   "metadata": {},
   "outputs": [
    {
     "data": {
      "text/plain": [
       "<matplotlib.axes._subplots.AxesSubplot at 0x7fabd073f748>"
      ]
     },
     "execution_count": 4,
     "metadata": {},
     "output_type": "execute_result"
    },
    {
     "data": {
      "image/png": "[encoded data removed]",
      "text/plain": [
       "<Figure size 648x432 with 1 Axes>"
      ]
     },
     "metadata": {
      "needs_background": "light"
     },
     "output_type": "display_data"
    }
   ],
   "source": [
    "import pandas as pd\n",
    "import seaborn as sns\n",
    "from sklearn.decomposition import PCA\n",
    "\n",
    "reductor_pca = PCA(n_components = 3)\n",
    "train_data_pca = reductor_pca.fit_transform(train_data)\n",
    "reductor_pca.explained_variance_ratio_\n",
    "\n",
    "train_data_pca = pd.DataFrame(data=train_data_pca, columns=['PC-1', 'PC-2', 'PC-3'])\n",
    "plt.figure(figsize=(9,6))\n",
    "sns.scatterplot(\n",
    "    data=train_data_pca, \n",
    "    x='PC-1', y='PC-2',\n",
    "    hue=train_labels\n",
    ")"
   ]
  },
  {
   "cell_type": "markdown",
   "metadata": {},
   "source": [
    "# Step 4: Calculate the testing features.\n",
    "\n",
    "Compute the HoCS features for all of the testing images.  Use the same HoCS parameters you did in Step 3.  Also generate class labels for the testing image descriptors."
   ]
  },
  {
   "cell_type": "code",
   "execution_count": 5,
   "metadata": {},
   "outputs": [
    {
     "name": "stderr",
     "output_type": "stream",
     "text": [
      "100%|██████████| 129/129 [08:39<00:00,  4.03s/it]\n"
     ]
    }
   ],
   "source": [
    "test_labels = np.zeros(129, dtype = 'int')\n",
    "test_labels[50:77] = 1\n",
    "test_labels[77:] = 2\n",
    "\n",
    "test_data, test_files = get_features(os.path.join('.', 'leaftesting')) "
   ]
  },
  {
   "cell_type": "markdown",
   "metadata": {},
   "source": [
    "# Step 5: Train the classifier using the feature vectors from the training images.\n",
    "\n",
    "You have another opportunity here to optimize parameters.  You can experiment with different classifiers (in partiuclar KNN) to try to obtain better classification rates.  But you won't really be able to do this until after step 6, so just use default parameters to start with."
   ]
  },
  {
   "cell_type": "code",
   "execution_count": 6,
   "metadata": {},
   "outputs": [],
   "source": [
    "from sklearn.neighbors import KNeighborsClassifier\n",
    "from sklearn.svm import SVC\n",
    "from sklearn.neural_network import MLPClassifier\n",
    "from sklearn.gaussian_process import GaussianProcessClassifier\n",
    "from sklearn.gaussian_process.kernels import RBF\n",
    "from sklearn.tree import DecisionTreeClassifier\n",
    "from sklearn.ensemble import RandomForestClassifier, AdaBoostClassifier\n",
    "from sklearn.naive_bayes import GaussianNB\n",
    "from sklearn.discriminant_analysis import QuadraticDiscriminantAnalysis\n",
    "from sklearn.cluster import KMeans\n",
    "\n",
    "classifiers = [\n",
    "    KNeighborsClassifier(n_neighbors=3),\n",
    "    SVC(kernel=\"linear\", C=0.025),\n",
    "    #SVC(gamma=2, C=1),\n",
    "    #GaussianProcessClassifier(1.0 * RBF(1.0)),\n",
    "    #GaussianNB(),\n",
    "    #DecisionTreeClassifier(),\n",
    "    #RandomForestClassifier(max_depth=5, n_estimators=10, max_features=1),\n",
    "    #MLPClassifier(alpha=1, max_iter=1000),\n",
    "    #AdaBoostClassifier(),\n",
    "    #QuadraticDiscriminantAnalysis(),\n",
    "    KMeans(n_clusters=3, init=np.take(train_data, [1, 11, 21], axis = 0))]"
   ]
  },
  {
   "cell_type": "markdown",
   "metadata": {},
   "source": [
    "# Step 6: Classfiy the testing features.\n",
    "\n",
    "Classify the testing image features.\n",
    "\n",
    "Determine the classification rate and the confusion matrix by comparing the results of the classifier to the true class labels for each image.  \n",
    "\n",
    "Print out the filenames of incorrectly classified images.\n",
    "\n",
    "Print the confusion matrix (you don't have to print the row/column indicies as in the example in the assignment description), just the rows and columns of the matrix itself.\n",
    "\n",
    "Print the correct classification rate.\n",
    "\n",
    "It should be very easy to get a classficiation rate more than 90%; with care you should be able to get as much as 95%."
   ]
  },
  {
   "cell_type": "code",
   "execution_count": 7,
   "metadata": {},
   "outputs": [
    {
     "name": "stdout",
     "output_type": "stream",
     "text": [
      "Using classifier KNeighborsClassifier(algorithm='auto', leaf_size=30, metric='minkowski',\n",
      "                     metric_params=None, n_jobs=None, n_neighbors=3, p=2,\n",
      "                     weights='uniform')\n",
      "The classification rate was 91.47286821705426 percent.\n",
      "image_0023.png was incorrectly classified.\n",
      "image_0046.png was incorrectly classified.\n",
      "image_0130.png was incorrectly classified.\n",
      "image_0134.png was incorrectly classified.\n",
      "image_0140.png was incorrectly classified.\n",
      "image_0144.png was incorrectly classified.\n",
      "image_0145.png was incorrectly classified.\n",
      "image_0153.png was incorrectly classified.\n",
      "image_0173.png was incorrectly classified.\n",
      "image_0185.png was incorrectly classified.\n",
      "image_0186.png was incorrectly classified.\n",
      "\n",
      "The confusion matrix is:\n",
      "   27,     0,     0\n",
      "    1,    43,     8\n",
      "    2,     0,    48\n",
      "\n",
      "Using classifier SVC(C=0.025, cache_size=200, class_weight=None, coef0=0.0,\n",
      "    decision_function_shape='ovr', degree=3, gamma='auto_deprecated',\n",
      "    kernel='linear', max_iter=-1, probability=False, random_state=None,\n",
      "    shrinking=True, tol=0.001, verbose=False)\n",
      "The classification rate was 89.14728682170544 percent.\n",
      "image_0023.png was incorrectly classified.\n",
      "image_0031.png was incorrectly classified.\n",
      "image_0046.png was incorrectly classified.\n",
      "image_0060.png was incorrectly classified.\n",
      "image_0130.png was incorrectly classified.\n",
      "image_0134.png was incorrectly classified.\n",
      "image_0140.png was incorrectly classified.\n",
      "image_0144.png was incorrectly classified.\n",
      "image_0145.png was incorrectly classified.\n",
      "image_0153.png was incorrectly classified.\n",
      "image_0173.png was incorrectly classified.\n",
      "image_0177.png was incorrectly classified.\n",
      "image_0185.png was incorrectly classified.\n",
      "image_0186.png was incorrectly classified.\n",
      "\n",
      "The confusion matrix is:\n",
      "   27,     0,     0\n",
      "    4,    42,     6\n",
      "    3,     1,    46\n",
      "\n",
      "Using classifier KMeans(algorithm='auto', copy_x=True,\n",
      "       init=array([[0.00000000e+00, 1.36301681e-03, 1.36301681e-03, 1.59018628e-02,\n",
      "        1.86278964e-02, 4.86142662e-02, 1.03589278e-01, 2.64879600e-01,\n",
      "        2.81690141e-01, 1.84915947e-01, 5.63380282e-02, 1.72648796e-02,\n",
      "        4.08905043e-03, 1.36301681e-03, 0.00000000e+00, 0.00000000e+00,\n",
      "        1.40845070e-02, 3.86188096e-02, 6.17900954e-02, 1.95365743e-02,\n",
      "        1...\n",
      "        0.00000000e+00, 0.00000000e+00, 0.00000000e+00, 0.00000000e+00,\n",
      "        0.00000000e+00, 0.00000000e+00, 2.71444083e-02, 3.36590662e-02,\n",
      "        3.25732899e-02, 1.21606949e-01, 6.12377850e-01, 1.61780673e-01,\n",
      "        1.08577633e-02, 0.00000000e+00, 0.00000000e+00, 0.00000000e+00,\n",
      "        0.00000000e+00, 0.00000000e+00]]),\n",
      "       max_iter=300, n_clusters=3, n_init=10, n_jobs=None,\n",
      "       precompute_distances='auto', random_state=None, tol=0.0001, verbose=0)\n",
      "The classification rate was 89.14728682170544 percent.\n",
      "image_0023.png was incorrectly classified.\n",
      "image_0031.png was incorrectly classified.\n",
      "image_0046.png was incorrectly classified.\n",
      "image_0130.png was incorrectly classified.\n",
      "image_0133.png was incorrectly classified.\n",
      "image_0134.png was incorrectly classified.\n",
      "image_0140.png was incorrectly classified.\n",
      "image_0144.png was incorrectly classified.\n",
      "image_0145.png was incorrectly classified.\n",
      "image_0153.png was incorrectly classified.\n",
      "image_0173.png was incorrectly classified.\n",
      "image_0177.png was incorrectly classified.\n",
      "image_0185.png was incorrectly classified.\n",
      "image_0186.png was incorrectly classified.\n",
      "\n",
      "The confusion matrix is:\n",
      "   27,     0,     0\n",
      "    4,    41,     7\n",
      "    3,     0,    47\n",
      "\n"
     ]
    },
    {
     "name": "stderr",
     "output_type": "stream",
     "text": [
      "/home/xil/miniconda3/lib/python3.7/site-packages/sklearn/cluster/k_means_.py:972: RuntimeWarning: Explicit initial center position passed: performing only one init in k-means instead of n_init=10\n",
      "  return_n_iter=True)\n"
     ]
    }
   ],
   "source": [
    "for clf in classifiers:\n",
    "    print(\"Using classifier\", clf)\n",
    "    clf.fit(train_data, train_labels)\n",
    "    predict_labels = clf.predict(test_data)\n",
    "    correct_labels = (predict_labels == test_labels)\n",
    "    \n",
    "    # Compute and print out the classification rate.\n",
    "    correct_rate = np.sum(correct_labels) / len(predict_labels)\n",
    "    print('The classification rate was', correct_rate * 100, 'percent.')\n",
    "\n",
    "    # obtain the filenames of images that were incorrectly classified.\n",
    "    incorrectly_classified = \\\n",
    "        [test_files[i] for i in range(len(test_files)) if not correct_labels[i]]\n",
    "\n",
    "    # Print out the names of incorrectly classified images.\n",
    "    for f in incorrectly_classified:\n",
    "        print(f, 'was incorrectly classified.')\n",
    "    print()  \n",
    "    \n",
    "    # Compute and print out the confusion matrix.\n",
    "    confusion = np.zeros((3, 3), dtype = 'int')\n",
    "    \n",
    "    for i in range(len(predict_labels)):\n",
    "        confusion[test_labels[i] - 1, predict_labels[i] - 1] += 1\n",
    "        \n",
    "    print('The confusion matrix is:')\n",
    "    for x in confusion:\n",
    "        print('{:5}, {:5}, {:5}'.format(x[0], x[1], x[2]))\n",
    "    print()"
   ]
  },
  {
   "cell_type": "code",
   "execution_count": null,
   "metadata": {},
   "outputs": [],
   "source": []
  }
 ],
 "metadata": {
  "kernelspec": {
   "display_name": "Python 3",
   "language": "python",
   "name": "python3"
  },
  "language_info": {
   "codemirror_mode": {
    "name": "ipython",
    "version": 3
   },
   "file_extension": ".py",
   "mimetype": "text/x-python",
   "name": "python",
   "nbconvert_exporter": "python",
   "pygments_lexer": "ipython3",
   "version": "3.7.3"
  }
 },
 "nbformat": 4,
 "nbformat_minor": 1
}
