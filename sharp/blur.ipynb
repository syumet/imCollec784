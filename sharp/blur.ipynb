{
 "cells": [
  {
   "cell_type": "markdown",
   "metadata": {
    "collapsed": true
   },
   "source": [
    "# Step 1: Implement the vector gradient.\n",
    "\n",
    "Implement the vector gradient as described in the lecture slides and the assignment description in the `color_sobel_edges()` function below.  Use sobel filters to estimate partial derivatives.  Use the `color_dot_product()` function (provided) to compute the necessary dot products to obtain gxx, gyy, and gxy.  Return an array containing the gradient magnitudes for each pixel, i.e. a graident magnitude image.  Optionally, return a second array containing the gradient directions for each pixel.\n",
    "\n",
    "As usual, the input image must be dtype `float` or `uint8`.  If it is `uint8` convert it to `float` before processing.  Leave the magnitude image ouput as dtype `float` regardless of the input's dtype.\n",
    "\n"
   ]
  },
  {
   "cell_type": "code",
   "execution_count": 1,
   "metadata": {},
   "outputs": [],
   "source": [
    "import skimage.util as util\n",
    "import skimage.filters as filt\n",
    "import numpy as np\n",
    "import math as math\n",
    "\n",
    "from typing import Tuple\n",
    "\n",
    "def color_dot_product(A: np.ndarray, B: np.ndarray) -> np.ndarray:\n",
    "    '''\n",
    "    Element-by-element dot product in a 2D array of vectors.\n",
    "\n",
    "    :param A: Input color image A\n",
    "    :param B: Input color image B \n",
    "    :return: An array in which index [i,j,:] is the dot product of A[i,j,:] and B[i,j,:].\n",
    "    '''\n",
    "    return np.sum(A.conj() * B, axis = 2)\n",
    "\n",
    "\n",
    "def color_sobel_edges(I: np.ndarray) -> Tuple[np.ndarray, float]:\n",
    "    '''\n",
    "    Sobel vector gradient for color images.\n",
    "    \n",
    "    :param I: Input image.\n",
    "    :return: A 2-tuple which the 1st entry is a 2-d array containing the gradient magnitudes for each pixel,\n",
    "    the 2nd entry contains the gradient directions for each pixel. \n",
    "    '''\n",
    "\n",
    "    chan_R = I[:, :, 0]\n",
    "    chan_G = I[:, :, 1]\n",
    "    chan_B = I[:, :, 2]\n",
    "\n",
    "    horizon_R = filt.sobel_h(chan_R)\n",
    "    horizon_G = filt.sobel_h(chan_G)\n",
    "    horizon_B = filt.sobel_h(chan_B)\n",
    "\n",
    "    vertical_R = filt.sobel_v(chan_R)\n",
    "    vertical_G = filt.sobel_v(chan_G)\n",
    "    vertical_B = filt.sobel_v(chan_B)\n",
    "\n",
    "    g_x = np.dstack((horizon_R, horizon_G, horizon_B))\n",
    "    g_y = np.dstack((vertical_R, vertical_G, vertical_B))\n",
    "\n",
    "    g_xx = color_dot_product(g_x, g_x)\n",
    "    g_yy = color_dot_product(g_y, g_y)\n",
    "    g_xy = color_dot_product(g_x, g_y)\n",
    "\n",
    "    grad_direction_x2 = np.arctan2(2 * g_xy, g_xx - g_yy)\n",
    "\n",
    "    grad_magnitude = np.sqrt(((g_xx + g_yy) + \\\n",
    "                              (g_xx - g_yy) * np.cos(grad_direction_x2) + \\\n",
    "                              2 * g_xy * np.sin(grad_direction_x2)) / 2)\n",
    "\n",
    "    return (grad_magnitude, grad_direction_x2 / 2)"
   ]
  },
  {
   "cell_type": "markdown",
   "metadata": {},
   "source": [
    "# Step 2: Examine behavior of the kurtosis sharpness metric.\n",
    "\n",
    "Write a function which:\n",
    "\n",
    "* takes as input an input image, a minimum value of sigma, and a maximum value of sigma.\n",
    "* applies different amounts of Gaussian blur to the original image for all integer values of sigma between the provided minimum and maximum values of sigma, inclusive. (reminder: sigma describes the standard deviation of the gaussian filter mask used to blur the image).\n",
    "* For each blurred image, compute the gradient magnitude using `color_sobel_edges()`, then compute compute the kurtosis sharpness measure.  This is the log(kurtosis+3) where kurtosis is the kurtosis of the gradient magnitude image of the blurred image as described in the assignment description document.  See `scipy.stats.kurtosis()`.\n",
    "* Returns a tuple consisting of the range object of sigma values used and the list of computed kurtosis values for each sigma.\n",
    "\n",
    "Call the function using `mushroom.jpg` as the input image, a minimum sigma of 1, and a maximum sigma of 30.  Use a smaller max sigma until you are sure it's working, then increase to 30, as it can take a few minutes to do all the filtering.  Use the return values from your function to plot a line graph of gaussian blur sigma vs. blur measure (kurtosis) for the waterfall image.  Add appropriate axis labels and a descriptive title.  Sample output is provided in the assignment description document.\n",
    "\n"
   ]
  },
  {
   "cell_type": "code",
   "execution_count": 2,
   "metadata": {},
   "outputs": [
    {
     "data": {
      "text/plain": [
       "Text(0.5, 1.0, 'Kurtosis sharpness measure of mushroom.jpg for increasing blur.')"
      ]
     },
     "execution_count": 2,
     "metadata": {},
     "output_type": "execute_result"
    },
    {
     "data": {
      "image/png": "[encoded data removed]",
      "text/plain": [
       "<Figure size 432x288 with 1 Axes>"
      ]
     },
     "metadata": {
      "needs_background": "light"
     },
     "output_type": "display_data"
    }
   ],
   "source": [
    "import skimage.io as io \n",
    "import scipy.stats as stats \n",
    "import matplotlib.pyplot as plt \n",
    "\n",
    "%matplotlib inline\n",
    "\n",
    "def kurtosis_sharpness(I: np.ndarray) -> float:\n",
    "    '''\n",
    "    Compute the kurtosis-based sharpness measure.\n",
    "\n",
    "    :param I: Input image.\n",
    "    :return: A numeric value which is the kurtosis-based sharpness of input image I. \n",
    "    '''\n",
    "    I_grad_magnitude = color_sobel_edges(I)[0]\n",
    "    k = stats.kurtosis(I_grad_magnitude.flatten())\n",
    "    return math.log(k + 3)\n",
    "\n",
    "def test_blur_measure(I: np.ndarray, min_sigma: float, max_sigma: float) -> np.ndarray:\n",
    "    '''\n",
    "    Test different amounts of Gaussian blur. \n",
    "    \n",
    "    :param I: Input image.\n",
    "    :param min_sigma: The minimum standard deviation for Gaussian Kernel. \n",
    "    :param max_sigma: The maximum standard deviation for Gaussian Kernel.\n",
    "    :return: A 2-d array which the 1st column consisting of the sigma values used and \n",
    "    the 2nd column consisting of computed kurtosis values for each sigma.\n",
    "    '''\n",
    "    i: int = math.ceil(min_sigma)\n",
    "    j: int = math.floor(max_sigma) + 1\n",
    "    result = np.zeros((j - i, 2))\n",
    "    for s in range(i, j):\n",
    "        I_blur = filt.gaussian(I, sigma = s, multichannel = True)\n",
    "        result[s - i, :] = [s, kurtosis_sharpness(I_blur)]\n",
    "    return result\n",
    "\n",
    "img = util.img_as_float(io.imread('./mushroom.jpg'))\n",
    "b = test_blur_measure(img, 1, 30)\n",
    "plt.plot(b[:,0], b[:,1])\n",
    "plt.xlabel('Gaussian blur sigma')\n",
    "plt.ylabel('Sharpness (kurtosis)')\n",
    "plt.title('Kurtosis sharpness measure of mushroom.jpg for increasing blur.')"
   ]
  },
  {
   "cell_type": "markdown",
   "metadata": {},
   "source": [
    "# Step 3:  Create a local blur map\n",
    "\n",
    "Write a function which:\n",
    "\n",
    "* takes as input an input image and a square window size (in pixels). e.g. if `window_size = 11`, this means an 11 by 11 window.\n",
    "* computes the local sharpness of the input image (i.e. log(kurtosis+3)) for each tiled, non-overlapping square window of the given window size\n",
    "* stores each local sharpness in an array where each entry represents one window of the input image (the size of this array can be computed by integer division of the original image dimensions by the window size)\n",
    "* returns the array of local sharpnesses.\n",
    "\n",
    "Then call the function you just wrote with `mushroom.jpg` as the input image and 100 as the window size.  Plot the returned array as an image using `plt.imshow()`.  Do not rescale this image with `vmin=` or `vmax=`, and use the default colormap (don't change it to `'gray'`).  Add a color scale bar to the figure using `plt.colorbar()`.  Sample output is provided in the assignment description document.\n",
    "\n"
   ]
  },
  {
   "cell_type": "code",
   "execution_count": 3,
   "metadata": {},
   "outputs": [
    {
     "data": {
      "text/plain": [
       "<matplotlib.colorbar.Colorbar at 0x7f74c9783f28>"
      ]
     },
     "execution_count": 3,
     "metadata": {},
     "output_type": "execute_result"
    },
    {
     "data": {
      "image/png": "[encoded data removed]",
      "text/plain": [
       "<Figure size 432x288 with 2 Axes>"
      ]
     },
     "metadata": {
      "needs_background": "light"
     },
     "output_type": "display_data"
    }
   ],
   "source": [
    "def sharpness_map(I: np.ndarray, window_size: int) -> np.ndarray:\n",
    "    '''\n",
    "    Compute the local sharpnesses map for the given window size.\n",
    "\n",
    "    :param I: Input image.\n",
    "    :param window_size: Size of window (in pixels). \n",
    "    :return: A 2-d array of local sharpnesses.\n",
    "    '''\n",
    "    s_map = np.zeros((np.size(I, 0) // window_size,\n",
    "                      np.size(I, 1) // window_size))\n",
    "    for r in range(0, np.size(s_map, 0)):\n",
    "        for c in range(0, np.size(s_map, 1)):\n",
    "            s_map[r, c] = kurtosis_sharpness(I[r * window_size: (r + 1) * window_size - 1, \\\n",
    "                                               c * window_size: (c + 1) * window_size - 1])\n",
    "    return s_map\n",
    "\n",
    "s = sharpness_map(img, window_size = 100)\n",
    "plt.imshow(s)\n",
    "plt.colorbar()"
   ]
  },
  {
   "cell_type": "markdown",
   "metadata": {},
   "source": [
    "# Step 4: Try it on another image.\n",
    "\n",
    "Use the functions you wrote to produce the same plots as in steps 2 and 3 but for the `waterfall.jpg` image instead.\n"
   ]
  },
  {
   "cell_type": "code",
   "execution_count": 4,
   "metadata": {},
   "outputs": [
    {
     "data": {
      "text/plain": [
       "<matplotlib.colorbar.Colorbar at 0x7f74cad63748>"
      ]
     },
     "execution_count": 4,
     "metadata": {},
     "output_type": "execute_result"
    },
    {
     "data": {
      "image/png": "[encoded data removed]",
      "text/plain": [
       "<Figure size 432x288 with 1 Axes>"
      ]
     },
     "metadata": {
      "needs_background": "light"
     },
     "output_type": "display_data"
    },
    {
     "data": {
      "image/png": "[encoded data removed]",
      "text/plain": [
       "<Figure size 432x288 with 2 Axes>"
      ]
     },
     "metadata": {
      "needs_background": "light"
     },
     "output_type": "display_data"
    }
   ],
   "source": [
    "# Write your code here.\n",
    "img = util.img_as_float(io.imread('./waterfall.jpg'))\n",
    "b = test_blur_measure(img, 1, 30)\n",
    "plt.figure()\n",
    "plt.plot(b[ : , 0], b[ : , 1])\n",
    "plt.xlabel('Gaussian blur sigma')\n",
    "plt.ylabel('Sharpness (kurtosis)')\n",
    "plt.title('Kurtosis sharpness measure of waterfall.jpg for increasing blur.')\n",
    "\n",
    "s = sharpness_map(img, window_size = 100)\n",
    "plt.figure()\n",
    "plt.imshow(s)\n",
    "plt.colorbar()"
   ]
  },
  {
   "cell_type": "markdown",
   "metadata": {},
   "source": [
    "# Step 5: Thinking and Qualitative Analysis\n",
    "\n",
    "### Answer the following questions, right here in this block.\n",
    "\n",
    "1. Do you think that the log(kurtosis+3) measurement of sharpness (hereafter called the \"sharpness measure\") is a good measure for characterizing global image blur (the general amount that the entire image is blurred)?  Explain and justify your answer.\n",
    "\n",
    "\t_Your answer:_  \n",
    "    Yes it is a good measure for characterizing global image blur. As we increase the sigma of gaussian filter, we get more blurred images and the corresponding sharpness value decreases.\n",
    "\n",
    "2. Is the sharpness measure effective at characterizing variations in local blur?  Does it respond to different regions of images appropriately?  Explain and justify your answers.\n",
    "\n",
    "\t_Your answer:_ \n",
    "    Yes it is effective at characterizing variations in local blur and it responds to different regions of images appropriately. For example the bottom right part of mushroom.jpg is less blurred than the rest part of the image, we can see that the sharpness measure for this region is significantly higher. While the windows of waterfall.jpg have similar blurriness so we see less extreme sharpness values.    \n",
    "\n",
    "3. Think of what the shape of a histogram of gradient magnitudes would look like for a sharp image.  Why does this set of gradient magnitudes have high kurtosis?  (It might help to look up kurtosis and see what it measures about a histogram!)\n",
    "\n",
    "\t_Your answer:_ \n",
    "    For a sharp image the histogram of gradient magnitudes would have high degree of peakedness and looks heavy-tailed. This set of gradient magnitudes have high kurtosis when there are many small and also many large deviations from the mean gradient magnitude.\n",
    "\n",
    "4. Now think what would happen as that same image gets blurrier.  Explain how the shape of the histogram would change, and the corresponding effect on the kurtosis.\n",
    "\n",
    "\t_Your answer:_ \n",
    "    The shape of the hitogram will have lower degree of peakedness, and be more light-tailed. The kurtosis will decrease. "
   ]
  },
  {
   "cell_type": "code",
   "execution_count": null,
   "metadata": {},
   "outputs": [],
   "source": []
  }
 ],
 "metadata": {
  "kernelspec": {
   "display_name": "Python 3",
   "language": "python",
   "name": "python3"
  },
  "language_info": {
   "codemirror_mode": {
    "name": "ipython",
    "version": 3
   },
   "file_extension": ".py",
   "mimetype": "text/x-python",
   "name": "python",
   "nbconvert_exporter": "python",
   "pygments_lexer": "ipython3",
   "version": "3.7.3"
  }
 },
 "nbformat": 4,
 "nbformat_minor": 1
}
